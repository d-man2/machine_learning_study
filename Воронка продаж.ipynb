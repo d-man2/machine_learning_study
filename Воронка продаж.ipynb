{
 "cells": [
  {
   "cell_type": "markdown",
   "metadata": {},
   "source": [
    "# Расчет воронки за 4 месяца относительно пола пользователя и типа устройства"
   ]
  },
  {
   "cell_type": "markdown",
   "metadata": {},
   "source": [
    "## 1 Расчет воронок"
   ]
  },
  {
   "cell_type": "markdown",
   "metadata": {},
   "source": [
    "### 1.1 Пользователь: Мужчина, устройство: Мобильный телефон"
   ]
  },
  {
   "cell_type": "code",
   "execution_count": 2,
   "metadata": {},
   "outputs": [
    {
     "name": "stdout",
     "output_type": "stream",
     "text": [
      "Таблица 1\t Воронка, пользователь: Мужчина, устройство: Мобильный телефон, кол-во переходов\n",
      "Страница/Месяц\t\t\t 2015-01\t 2015-02\t 2015-03\t 2015-04\n",
      "1_home_page\t\t\t 3682 \t\t 3799 \t\t 3812 \t\t 3829\n",
      "2_search_page\t\t\t 2963 \t\t 3035 \t\t 762 \t\t 755\n",
      "3_payment_page\t\t\t 551 \t\t 591 \t\t 160 \t\t 148\n",
      "4_payment_confirmation_page\t 53 \t\t 59 \t\t 10 \t\t 13\n",
      "\n",
      "\n"
     ]
    }
   ],
   "source": [
    "import csv\n",
    "\n",
    "funnel_month_mobile_male = {}\n",
    "funnel_template = {'1_home_page': 0, '2_search_page': 0, '3_payment_page': 0, '4_payment_confirmation_page': 0}\n",
    "with open('click_stream3.csv', mode='r') as csv_file: # открываем файл\n",
    "    csv_reader = csv.DictReader(csv_file, fieldnames=['ID','page','date', 'device', 'Gender']) # читаем файл\n",
    "    \n",
    "    for row in csv_reader:\n",
    "        \n",
    "        page = list(row.items())[1][1]\n",
    "        device = list(row.items())[3][1]\n",
    "        Gender = list(row.items())[4][1]\n",
    "        \n",
    "        event_date = list(row.items())[2][1][:-3]\n",
    "        \n",
    "        if event_date not in funnel_month_mobile_male:\n",
    "            funnel_month_mobile_male[event_date] = funnel_template.copy()\n",
    "            \n",
    "        if device == 'Mobile' and Gender == 'Male':\n",
    "            \n",
    "            \n",
    "            if page == '1_home_page':\n",
    "                funnel_month_mobile_male[event_date]['1_home_page'] += 1\n",
    "            elif page == '2_search_page':\n",
    "                funnel_month_mobile_male[event_date]['2_search_page'] += 1\n",
    "            elif page == '3_payment_page':\n",
    "                funnel_month_mobile_male[event_date]['3_payment_page'] += 1\n",
    "            elif page == '4_payment_confirmation_page':\n",
    "                funnel_month_mobile_male[event_date]['4_payment_confirmation_page'] += 1\n",
    "\n",
    "    print('Таблица 1\\t', 'Воронка, пользователь: Мужчина, устройство: Мобильный телефон, кол-во переходов')\n",
    "    print('Страница/Месяц\\t\\t\\t', '2015-01\\t', '2015-02\\t', '2015-03\\t', '2015-04')\n",
    "    print('1_home_page\\t\\t\\t', funnel_month_mobile_male['2015-01']['1_home_page'], '\\t\\t', funnel_month_mobile_male['2015-02']['1_home_page'], '\\t\\t', funnel_month_mobile_male['2015-03']['1_home_page'], '\\t\\t', funnel_month_mobile_male['2015-04']['1_home_page'])\n",
    "    print('2_search_page\\t\\t\\t', funnel_month_mobile_male['2015-01']['2_search_page'], '\\t\\t', funnel_month_mobile_male['2015-02']['2_search_page'], '\\t\\t', funnel_month_mobile_male['2015-03']['2_search_page'], '\\t\\t', funnel_month_mobile_male['2015-04']['2_search_page'])\n",
    "    print('3_payment_page\\t\\t\\t', funnel_month_mobile_male['2015-01']['3_payment_page'], '\\t\\t', funnel_month_mobile_male['2015-02']['3_payment_page'], '\\t\\t', funnel_month_mobile_male['2015-03']['3_payment_page'], '\\t\\t', funnel_month_mobile_male['2015-04']['3_payment_page'])\n",
    "    print('4_payment_confirmation_page\\t', funnel_month_mobile_male['2015-01']['4_payment_confirmation_page'], '\\t\\t', funnel_month_mobile_male['2015-02']['4_payment_confirmation_page'], '\\t\\t', funnel_month_mobile_male['2015-03']['4_payment_confirmation_page'], '\\t\\t', funnel_month_mobile_male['2015-04']['4_payment_confirmation_page'])\n",
    "    print('\\n')\n",
    "   "
   ]
  },
  {
   "cell_type": "markdown",
   "metadata": {},
   "source": [
    "### 1.2 Пользователь: Женщина, устройство: Мобильный телефон"
   ]
  },
  {
   "cell_type": "code",
   "execution_count": 3,
   "metadata": {},
   "outputs": [
    {
     "name": "stdout",
     "output_type": "stream",
     "text": [
      "Таблица 2\t Воронка, пользователь: Женщина, устройство: Мобильный телефон, кол-во переходов\n",
      "Страница/Месяц\t\t\t 2015-01\t 2015-02\t 2015-03\t 2015-04\n",
      "1_home_page\t\t\t 3868 \t\t 3751 \t\t 3738 \t\t 3721\n",
      "2_search_page\t\t\t 3062 \t\t 3020 \t\t 747 \t\t 756\n",
      "3_payment_page\t\t\t 618 \t\t 630 \t\t 175 \t\t 147\n",
      "4_payment_confirmation_page\t 76 \t\t 60 \t\t 20 \t\t 11\n",
      "\n",
      "\n"
     ]
    }
   ],
   "source": [
    "\n",
    "funnel_month_mobile_female = {}\n",
    "funnel_template = {'1_home_page': 0, '2_search_page': 0, '3_payment_page': 0, '4_payment_confirmation_page': 0}\n",
    "with open('click_stream3.csv', mode='r') as csv_file: # открываем файл\n",
    "    csv_reader = csv.DictReader(csv_file, fieldnames=['ID','page','date', 'device', 'Gender']) # читаем файл\n",
    "    \n",
    "    for row in csv_reader:\n",
    "        \n",
    "        page = list(row.items())[1][1]\n",
    "        device = list(row.items())[3][1]\n",
    "        Gender = list(row.items())[4][1]\n",
    "        event_date = list(row.items())[2][1][:-3]\n",
    "        \n",
    "        if event_date not in funnel_month_mobile_female:\n",
    "            funnel_month_mobile_female[event_date] = funnel_template.copy()\n",
    "            \n",
    "        if device == 'Mobile' and Gender == 'Female':\n",
    "            \n",
    "            \n",
    "            if page == '1_home_page':\n",
    "                funnel_month_mobile_female[event_date]['1_home_page'] += 1\n",
    "            elif page == '2_search_page':\n",
    "                funnel_month_mobile_female[event_date]['2_search_page'] += 1\n",
    "            elif page == '3_payment_page':\n",
    "                funnel_month_mobile_female[event_date]['3_payment_page'] += 1\n",
    "            elif page == '4_payment_confirmation_page':\n",
    "                funnel_month_mobile_female[event_date]['4_payment_confirmation_page'] += 1\n",
    "\n",
    "    print('Таблица 2\\t', 'Воронка, пользователь: Женщина, устройство: Мобильный телефон, кол-во переходов')\n",
    "    print('Страница/Месяц\\t\\t\\t', '2015-01\\t', '2015-02\\t', '2015-03\\t', '2015-04')\n",
    "    print('1_home_page\\t\\t\\t', funnel_month_mobile_female['2015-01']['1_home_page'], '\\t\\t', funnel_month_mobile_female['2015-02']['1_home_page'], '\\t\\t', funnel_month_mobile_female['2015-03']['1_home_page'], '\\t\\t', funnel_month_mobile_female['2015-04']['1_home_page'])\n",
    "    print('2_search_page\\t\\t\\t', funnel_month_mobile_female['2015-01']['2_search_page'], '\\t\\t', funnel_month_mobile_female['2015-02']['2_search_page'], '\\t\\t', funnel_month_mobile_female['2015-03']['2_search_page'], '\\t\\t', funnel_month_mobile_female['2015-04']['2_search_page'])\n",
    "    print('3_payment_page\\t\\t\\t', funnel_month_mobile_female['2015-01']['3_payment_page'], '\\t\\t', funnel_month_mobile_female['2015-02']['3_payment_page'], '\\t\\t', funnel_month_mobile_female['2015-03']['3_payment_page'], '\\t\\t', funnel_month_mobile_female['2015-04']['3_payment_page'])\n",
    "    print('4_payment_confirmation_page\\t', funnel_month_mobile_female['2015-01']['4_payment_confirmation_page'], '\\t\\t', funnel_month_mobile_female['2015-02']['4_payment_confirmation_page'], '\\t\\t', funnel_month_mobile_female['2015-03']['4_payment_confirmation_page'], '\\t\\t', funnel_month_mobile_female['2015-04']['4_payment_confirmation_page'])\n",
    "    print('\\n')\n",
    "   "
   ]
  },
  {
   "cell_type": "markdown",
   "metadata": {},
   "source": [
    "### 1.3 Пользователь: Мужчина, устройство: ПК"
   ]
  },
  {
   "cell_type": "code",
   "execution_count": 4,
   "metadata": {},
   "outputs": [
    {
     "name": "stdout",
     "output_type": "stream",
     "text": [
      "Таблица 3\t Воронка, пользователь: Мужчина, устройство: ПК, кол-во переходов\n",
      "Страница/Месяц\t\t\t 2015-01\t 2015-02\t 2015-03\t 2015-04\n",
      "1_home_page\t\t\t 7504 \t\t 7602 \t\t 7538 \t\t 7559\n",
      "2_search_page\t\t\t 3678 \t\t 3832 \t\t 3663 \t\t 3836\n",
      "3_payment_page\t\t\t 596 \t\t 586 \t\t 134 \t\t 164\n",
      "4_payment_confirmation_page\t 27 \t\t 28 \t\t 8 \t\t 13\n",
      "\n",
      "\n"
     ]
    }
   ],
   "source": [
    "funnel_month_desktop_male = {}\n",
    "funnel_template = {'1_home_page': 0, '2_search_page': 0, '3_payment_page': 0, '4_payment_confirmation_page': 0}\n",
    "with open('click_stream3.csv', mode='r') as csv_file: # открываем файл\n",
    "    csv_reader = csv.DictReader(csv_file, fieldnames=['ID','page','date', 'device', 'Gender']) # читаем файл\n",
    "    \n",
    "    for row in csv_reader:\n",
    "        \n",
    "        page = list(row.items())[1][1]\n",
    "        device = list(row.items())[3][1]\n",
    "        Gender = list(row.items())[4][1]\n",
    "        event_date = list(row.items())[2][1][:-3]\n",
    "        \n",
    "        if event_date not in funnel_month_desktop_male:\n",
    "            funnel_month_desktop_male[event_date] = funnel_template.copy()\n",
    "            \n",
    "        if  device == 'Desktop' and Gender == 'Male': \n",
    "            \n",
    "            \n",
    "            if page == '1_home_page':\n",
    "                funnel_month_desktop_male[event_date]['1_home_page'] += 1\n",
    "            elif page == '2_search_page':\n",
    "                funnel_month_desktop_male[event_date]['2_search_page'] += 1\n",
    "            elif page == '3_payment_page':\n",
    "                funnel_month_desktop_male[event_date]['3_payment_page'] += 1\n",
    "            elif page == '4_payment_confirmation_page':\n",
    "                funnel_month_desktop_male[event_date]['4_payment_confirmation_page'] += 1\n",
    "\n",
    "    print('Таблица 3\\t', 'Воронка, пользователь: Мужчина, устройство: ПК, кол-во переходов')\n",
    "    print('Страница/Месяц\\t\\t\\t', '2015-01\\t', '2015-02\\t', '2015-03\\t', '2015-04')\n",
    "    print('1_home_page\\t\\t\\t', funnel_month_desktop_male['2015-01']['1_home_page'], '\\t\\t', funnel_month_desktop_male['2015-02']['1_home_page'], '\\t\\t', funnel_month_desktop_male['2015-03']['1_home_page'], '\\t\\t', funnel_month_desktop_male['2015-04']['1_home_page'])\n",
    "    print('2_search_page\\t\\t\\t', funnel_month_desktop_male['2015-01']['2_search_page'], '\\t\\t', funnel_month_desktop_male['2015-02']['2_search_page'], '\\t\\t', funnel_month_desktop_male['2015-03']['2_search_page'], '\\t\\t', funnel_month_desktop_male['2015-04']['2_search_page'])\n",
    "    print('3_payment_page\\t\\t\\t', funnel_month_desktop_male['2015-01']['3_payment_page'], '\\t\\t', funnel_month_desktop_male['2015-02']['3_payment_page'], '\\t\\t', funnel_month_desktop_male['2015-03']['3_payment_page'], '\\t\\t', funnel_month_desktop_male['2015-04']['3_payment_page'])\n",
    "    print('4_payment_confirmation_page\\t', funnel_month_desktop_male['2015-01']['4_payment_confirmation_page'], '\\t\\t', funnel_month_desktop_male['2015-02']['4_payment_confirmation_page'], '\\t\\t', funnel_month_desktop_male['2015-03']['4_payment_confirmation_page'], '\\t\\t', funnel_month_desktop_male['2015-04']['4_payment_confirmation_page'])\n",
    "    print('\\n')\n",
    "\n"
   ]
  },
  {
   "cell_type": "markdown",
   "metadata": {},
   "source": [
    "### 1.4 Пользователь: Женщина, устройство: ПК"
   ]
  },
  {
   "cell_type": "code",
   "execution_count": 5,
   "metadata": {},
   "outputs": [
    {
     "name": "stdout",
     "output_type": "stream",
     "text": [
      "Таблица 4\t Воронка, пользователь: Женщина, устройство: ПК, кол-во переходов\n",
      "Страница/Месяц\t\t\t 2015-01\t 2015-02\t 2015-03\t 2015-04\n",
      "1_home_page\t\t\t 7546 \t\t 7448 \t\t 7512 \t\t 7491\n",
      "2_search_page\t\t\t 3851 \t\t 3800 \t\t 3707 \t\t 3733\n",
      "3_payment_page\t\t\t 625 \t\t 605 \t\t 162 \t\t 138\n",
      "4_payment_confirmation_page\t 33 \t\t 26 \t\t 6 \t\t 9\n",
      "\n",
      "\n"
     ]
    }
   ],
   "source": [
    "funnel_month_desktop_female = {}\n",
    "funnel_template = {'1_home_page': 0, '2_search_page': 0, '3_payment_page': 0, '4_payment_confirmation_page': 0}\n",
    "with open('click_stream3.csv', mode='r') as csv_file: # открываем файл\n",
    "    csv_reader = csv.DictReader(csv_file, fieldnames=['ID','page','date', 'device', 'Gender']) # читаем файл\n",
    "    \n",
    "    for row in csv_reader:\n",
    "        \n",
    "        page = list(row.items())[1][1]\n",
    "        device = list(row.items())[3][1]\n",
    "        Gender = list(row.items())[4][1]\n",
    "        event_date = list(row.items())[2][1][:-3]\n",
    "        \n",
    "        if event_date not in funnel_month_desktop_female:\n",
    "            funnel_month_desktop_female[event_date] = funnel_template.copy()\n",
    "            \n",
    "        if device == 'Desktop' and Gender == 'Female':\n",
    "            \n",
    "            \n",
    "            if page == '1_home_page':\n",
    "                funnel_month_desktop_female[event_date]['1_home_page'] += 1\n",
    "            elif page == '2_search_page':\n",
    "                funnel_month_desktop_female[event_date]['2_search_page'] += 1\n",
    "            elif page == '3_payment_page':\n",
    "                funnel_month_desktop_female[event_date]['3_payment_page'] += 1\n",
    "            elif page == '4_payment_confirmation_page':\n",
    "                funnel_month_desktop_female[event_date]['4_payment_confirmation_page'] += 1\n",
    "\n",
    "    print('Таблица 4\\t', 'Воронка, пользователь: Женщина, устройство: ПК, кол-во переходов')\n",
    "    print('Страница/Месяц\\t\\t\\t', '2015-01\\t', '2015-02\\t', '2015-03\\t', '2015-04')\n",
    "    print('1_home_page\\t\\t\\t', funnel_month_desktop_female['2015-01']['1_home_page'], '\\t\\t', funnel_month_desktop_female['2015-02']['1_home_page'], '\\t\\t', funnel_month_desktop_female['2015-03']['1_home_page'], '\\t\\t', funnel_month_desktop_female['2015-04']['1_home_page'])\n",
    "    print('2_search_page\\t\\t\\t', funnel_month_desktop_female['2015-01']['2_search_page'], '\\t\\t', funnel_month_desktop_female['2015-02']['2_search_page'], '\\t\\t', funnel_month_desktop_female['2015-03']['2_search_page'], '\\t\\t', funnel_month_desktop_female['2015-04']['2_search_page'])\n",
    "    print('3_payment_page\\t\\t\\t', funnel_month_desktop_female['2015-01']['3_payment_page'], '\\t\\t', funnel_month_desktop_female['2015-02']['3_payment_page'], '\\t\\t', funnel_month_desktop_female['2015-03']['3_payment_page'], '\\t\\t', funnel_month_desktop_female['2015-04']['3_payment_page'])\n",
    "    print('4_payment_confirmation_page\\t', funnel_month_desktop_female['2015-01']['4_payment_confirmation_page'], '\\t\\t', funnel_month_desktop_female['2015-02']['4_payment_confirmation_page'], '\\t\\t', funnel_month_desktop_female['2015-03']['4_payment_confirmation_page'], '\\t\\t', funnel_month_desktop_female['2015-04']['4_payment_confirmation_page'])\n",
    "    print('\\n')\n",
    "    "
   ]
  },
  {
   "cell_type": "markdown",
   "metadata": {},
   "source": [
    "## 2 Переход от кол-ва переходов к процентам относительно  1_home_page"
   ]
  },
  {
   "cell_type": "code",
   "execution_count": 6,
   "metadata": {},
   "outputs": [],
   "source": [
    "funnel_month_mobile_male_percent = funnel_month_mobile_male.copy()\n",
    "funnel_month_mobile_female_percent = funnel_month_mobile_female.copy()\n",
    "funnel_month_desktop_male_percent = funnel_month_desktop_male.copy()\n",
    "funnel_month_desktop_female_percent = funnel_month_desktop_female.copy()"
   ]
  },
  {
   "cell_type": "code",
   "execution_count": 7,
   "metadata": {},
   "outputs": [
    {
     "name": "stdout",
     "output_type": "stream",
     "text": [
      "Таблица 5\t Воронка, пользователь: Мужчина, устройство: Мобильный телефон, процент переходов с 1_home_page\n",
      "Страница/Месяц\t\t\t 2015-01\t 2015-02\t 2015-03\t 2015-04\n",
      "1_home_page\t\t\t 100% \t\t 100% \t\t 100% \t\t 100%\n",
      "2_search_page\t\t\t 80.47% \t 79.89% \t 19.99% \t 19.72%\n",
      "3_payment_page\t\t\t 14.96% \t 15.56% \t 4.2% \t\t 3.87%\n",
      "4_payment_confirmation_page\t 1.44% \t\t 1.55% \t\t 0.26% \t\t 0.34%\n",
      "\n",
      "\n",
      "Таблица 6\t Воронка, пользователь: Женщина, устройство: Мобильный телефон, процент переходов с 1_home_page\n",
      "Страница/Месяц\t\t\t 2015-01\t 2015-02\t 2015-03\t 2015-04\n",
      "1_home_page\t\t\t 100% \t\t 100% \t\t 100% \t\t 100%\n",
      "2_search_page\t\t\t 79.16% \t 80.51% \t 19.98% \t 20.32%\n",
      "3_payment_page\t\t\t 15.98% \t 16.8% \t\t 4.68% \t\t 3.95%\n",
      "4_payment_confirmation_page\t 1.96% \t\t 1.6% \t\t 0.54% \t\t 0.3%\n",
      "\n",
      "\n",
      "Таблица 7\t Воронка, пользователь: Мужчина, устройство: ПК, процент переходов с 1_home_page\n",
      "Страница/Месяц\t\t\t 2015-01\t 2015-02\t 2015-03\t 2015-04\n",
      "1_home_page\t\t\t 100% \t\t 100% \t\t 100% \t\t 100%\n",
      "2_search_page\t\t\t 49.01% \t 50.41% \t 48.59% \t 50.75%\n",
      "3_payment_page\t\t\t 7.94% \t\t 7.71% \t\t 1.78% \t\t 2.17%\n",
      "4_payment_confirmation_page\t 0.36% \t\t 0.37% \t\t 0.11% \t\t 0.17%\n",
      "\n",
      "\n",
      "Таблица 8\t Воронка, пользователь: Женщина, устройство: ПК, процент переходов с 1_home_page\n",
      "Страница/Месяц\t\t\t 2015-01\t 2015-02\t 2015-03\t 2015-04\n",
      "1_home_page\t\t\t 100% \t\t 100% \t\t 100% \t\t 100%\n",
      "2_search_page\t\t\t 51.03% \t 51.02% \t 49.35% \t 49.83%\n",
      "3_payment_page\t\t\t 8.28% \t\t 8.12% \t\t 2.16% \t\t 1.84%\n",
      "4_payment_confirmation_page\t 0.44% \t\t 0.35% \t\t 0.08% \t\t 0.12%\n"
     ]
    }
   ],
   "source": [
    "for month in funnel_month_mobile_male_percent:\n",
    "    funnel_month_mobile_male_percent[month]['4_payment_confirmation_page'] = str(float(\"{0:.2f}\".format((funnel_month_mobile_male_percent[month]['4_payment_confirmation_page'] / funnel_month_mobile_male_percent[month]['1_home_page'])* 100)))+'%'\n",
    "    funnel_month_mobile_male_percent[month]['3_payment_page'] = str(float(\"{0:.2f}\".format((funnel_month_mobile_male_percent[month]['3_payment_page'] / funnel_month_mobile_male_percent[month]['1_home_page'])* 100)))+'%'\n",
    "    funnel_month_mobile_male_percent[month]['2_search_page'] = str(float(\"{0:.2f}\".format((funnel_month_mobile_male_percent[month]['2_search_page'] / funnel_month_mobile_male_percent[month]['1_home_page'])* 100)))+'%'\n",
    "    funnel_month_mobile_male_percent[month]['1_home_page'] = '100%'\n",
    "print('Таблица 5\\t', 'Воронка, пользователь: Мужчина, устройство: Мобильный телефон, процент переходов с 1_home_page')\n",
    "print('Страница/Месяц\\t\\t\\t', '2015-01\\t', '2015-02\\t', '2015-03\\t', '2015-04')\n",
    "print('1_home_page\\t\\t\\t', funnel_month_mobile_male_percent['2015-01']['1_home_page'], '\\t\\t', funnel_month_mobile_male_percent['2015-02']['1_home_page'], '\\t\\t', funnel_month_mobile_male_percent['2015-03']['1_home_page'], '\\t\\t', funnel_month_mobile_male_percent['2015-04']['1_home_page'])\n",
    "print('2_search_page\\t\\t\\t', funnel_month_mobile_male_percent['2015-01']['2_search_page'], '\\t', funnel_month_mobile_male_percent['2015-02']['2_search_page'], '\\t', funnel_month_mobile_male_percent['2015-03']['2_search_page'], '\\t', funnel_month_mobile_male_percent['2015-04']['2_search_page'])\n",
    "print('3_payment_page\\t\\t\\t', funnel_month_mobile_male_percent['2015-01']['3_payment_page'], '\\t', funnel_month_mobile_male_percent['2015-02']['3_payment_page'], '\\t', funnel_month_mobile_male_percent['2015-03']['3_payment_page'], '\\t\\t', funnel_month_mobile_male_percent['2015-04']['3_payment_page'])\n",
    "print('4_payment_confirmation_page\\t', funnel_month_mobile_male_percent['2015-01']['4_payment_confirmation_page'], '\\t\\t', funnel_month_mobile_male_percent['2015-02']['4_payment_confirmation_page'], '\\t\\t', funnel_month_mobile_male_percent['2015-03']['4_payment_confirmation_page'], '\\t\\t', funnel_month_mobile_male_percent['2015-04']['4_payment_confirmation_page'])\n",
    "print('\\n')\n",
    "\n",
    "for month in funnel_month_mobile_female_percent:\n",
    "    funnel_month_mobile_female_percent[month]['4_payment_confirmation_page'] = str(float(\"{0:.2f}\".format((funnel_month_mobile_female_percent[month]['4_payment_confirmation_page'] / funnel_month_mobile_female_percent[month]['1_home_page'])* 100)))+'%'\n",
    "    funnel_month_mobile_female_percent[month]['3_payment_page'] = str(float(\"{0:.2f}\".format((funnel_month_mobile_female_percent[month]['3_payment_page'] / funnel_month_mobile_female_percent[month]['1_home_page'])* 100)))+'%'\n",
    "    funnel_month_mobile_female_percent[month]['2_search_page'] = str(float(\"{0:.2f}\".format((funnel_month_mobile_female_percent[month]['2_search_page'] / funnel_month_mobile_female_percent[month]['1_home_page'])* 100)))+'%'        \n",
    "    funnel_month_mobile_female_percent[month]['1_home_page'] = '100%'\n",
    "\n",
    "\n",
    "print('Таблица 6\\t', 'Воронка, пользователь: Женщина, устройство: Мобильный телефон, процент переходов с 1_home_page')\n",
    "print('Страница/Месяц\\t\\t\\t', '2015-01\\t', '2015-02\\t', '2015-03\\t', '2015-04')\n",
    "print('1_home_page\\t\\t\\t', funnel_month_mobile_female_percent['2015-01']['1_home_page'], '\\t\\t', funnel_month_mobile_female_percent['2015-02']['1_home_page'], '\\t\\t', funnel_month_mobile_female_percent['2015-03']['1_home_page'], '\\t\\t', funnel_month_mobile_female_percent['2015-04']['1_home_page'])\n",
    "print('2_search_page\\t\\t\\t', funnel_month_mobile_female_percent['2015-01']['2_search_page'], '\\t', funnel_month_mobile_female_percent['2015-02']['2_search_page'], '\\t', funnel_month_mobile_female_percent['2015-03']['2_search_page'], '\\t', funnel_month_mobile_female_percent['2015-04']['2_search_page'])\n",
    "print('3_payment_page\\t\\t\\t', funnel_month_mobile_female_percent['2015-01']['3_payment_page'], '\\t', funnel_month_mobile_female_percent['2015-02']['3_payment_page'], '\\t\\t', funnel_month_mobile_female_percent['2015-03']['3_payment_page'], '\\t\\t', funnel_month_mobile_female_percent['2015-04']['3_payment_page'])\n",
    "print('4_payment_confirmation_page\\t', funnel_month_mobile_female_percent['2015-01']['4_payment_confirmation_page'], '\\t\\t', funnel_month_mobile_female_percent['2015-02']['4_payment_confirmation_page'], '\\t\\t', funnel_month_mobile_female_percent['2015-03']['4_payment_confirmation_page'], '\\t\\t', funnel_month_mobile_female_percent['2015-04']['4_payment_confirmation_page'])\n",
    "print('\\n')\n",
    "\n",
    "for month in funnel_month_desktop_male_percent:\n",
    "    funnel_month_desktop_male_percent[month]['4_payment_confirmation_page'] = str(float(\"{0:.2f}\".format((funnel_month_desktop_male_percent[month]['4_payment_confirmation_page'] / funnel_month_desktop_male_percent[month]['1_home_page'])* 100)))+'%'\n",
    "    funnel_month_desktop_male_percent[month]['3_payment_page'] = str(float(\"{0:.2f}\".format((funnel_month_desktop_male_percent[month]['3_payment_page'] / funnel_month_desktop_male_percent[month]['1_home_page'])* 100)))+'%'\n",
    "    funnel_month_desktop_male_percent[month]['2_search_page'] = str(float(\"{0:.2f}\".format((funnel_month_desktop_male_percent[month]['2_search_page'] / funnel_month_desktop_male_percent[month]['1_home_page'])* 100)))+'%'        \n",
    "    funnel_month_desktop_male_percent[month]['1_home_page'] = '100%'\n",
    "\n",
    "\n",
    "print('Таблица 7\\t', 'Воронка, пользователь: Мужчина, устройство: ПК, процент переходов с 1_home_page')\n",
    "print('Страница/Месяц\\t\\t\\t', '2015-01\\t', '2015-02\\t', '2015-03\\t', '2015-04')\n",
    "print('1_home_page\\t\\t\\t', funnel_month_desktop_male_percent['2015-01']['1_home_page'], '\\t\\t', funnel_month_desktop_male_percent['2015-02']['1_home_page'], '\\t\\t', funnel_month_desktop_male_percent['2015-03']['1_home_page'], '\\t\\t', funnel_month_desktop_male_percent['2015-04']['1_home_page'])\n",
    "print('2_search_page\\t\\t\\t', funnel_month_desktop_male_percent['2015-01']['2_search_page'], '\\t', funnel_month_desktop_male_percent['2015-02']['2_search_page'], '\\t', funnel_month_desktop_male_percent['2015-03']['2_search_page'], '\\t', funnel_month_desktop_male_percent['2015-04']['2_search_page'])\n",
    "print('3_payment_page\\t\\t\\t', funnel_month_desktop_male_percent['2015-01']['3_payment_page'], '\\t\\t', funnel_month_desktop_male_percent['2015-02']['3_payment_page'], '\\t\\t', funnel_month_desktop_male_percent['2015-03']['3_payment_page'], '\\t\\t', funnel_month_desktop_male_percent['2015-04']['3_payment_page'])\n",
    "print('4_payment_confirmation_page\\t', funnel_month_desktop_male_percent['2015-01']['4_payment_confirmation_page'], '\\t\\t', funnel_month_desktop_male_percent['2015-02']['4_payment_confirmation_page'], '\\t\\t', funnel_month_desktop_male_percent['2015-03']['4_payment_confirmation_page'], '\\t\\t', funnel_month_desktop_male_percent['2015-04']['4_payment_confirmation_page'])\n",
    "print('\\n')\n",
    "\n",
    "for month in funnel_month_desktop_female_percent:\n",
    "    funnel_month_desktop_female[month]['4_payment_confirmation_page'] = str(float(\"{0:.2f}\".format((funnel_month_desktop_female[month]['4_payment_confirmation_page'] / funnel_month_desktop_female[month]['1_home_page'])* 100)))+'%'\n",
    "    funnel_month_desktop_female[month]['3_payment_page'] = str(float(\"{0:.2f}\".format((funnel_month_desktop_female[month]['3_payment_page'] / funnel_month_desktop_female[month]['1_home_page'])* 100)))+'%'\n",
    "    funnel_month_desktop_female[month]['2_search_page'] = str(float(\"{0:.2f}\".format((funnel_month_desktop_female[month]['2_search_page'] / funnel_month_desktop_female[month]['1_home_page'])* 100)))+'%'        \n",
    "    funnel_month_desktop_female[month]['1_home_page'] = '100%'\n",
    "\n",
    "\n",
    "print('Таблица 8\\t', 'Воронка, пользователь: Женщина, устройство: ПК, процент переходов с 1_home_page')\n",
    "print('Страница/Месяц\\t\\t\\t', '2015-01\\t', '2015-02\\t', '2015-03\\t', '2015-04')\n",
    "print('1_home_page\\t\\t\\t', funnel_month_desktop_female['2015-01']['1_home_page'], '\\t\\t', funnel_month_desktop_female['2015-02']['1_home_page'], '\\t\\t', funnel_month_desktop_female['2015-03']['1_home_page'], '\\t\\t', funnel_month_desktop_female['2015-04']['1_home_page'])\n",
    "print('2_search_page\\t\\t\\t', funnel_month_desktop_female['2015-01']['2_search_page'], '\\t', funnel_month_desktop_female['2015-02']['2_search_page'], '\\t', funnel_month_desktop_female['2015-03']['2_search_page'], '\\t', funnel_month_desktop_female['2015-04']['2_search_page'])\n",
    "print('3_payment_page\\t\\t\\t', funnel_month_desktop_female['2015-01']['3_payment_page'], '\\t\\t', funnel_month_desktop_female['2015-02']['3_payment_page'], '\\t\\t', funnel_month_desktop_female['2015-03']['3_payment_page'], '\\t\\t', funnel_month_desktop_female['2015-04']['3_payment_page'])\n",
    "print('4_payment_confirmation_page\\t', funnel_month_desktop_female['2015-01']['4_payment_confirmation_page'], '\\t\\t', funnel_month_desktop_female['2015-02']['4_payment_confirmation_page'], '\\t\\t', funnel_month_desktop_female['2015-03']['4_payment_confirmation_page'], '\\t\\t', funnel_month_desktop_female['2015-04']['4_payment_confirmation_page'])\n"
   ]
  },
  {
   "cell_type": "markdown",
   "metadata": {},
   "source": [
    "## 3 Анализ результатов"
   ]
  },
  {
   "cell_type": "markdown",
   "metadata": {},
   "source": [
    "### 3.1 2_search_page\n",
    "<p>По таблицам 5-6 видно, что произошло снижение процента переходов с 1_home_page на 2_search_page между февралем и мартом для мобильных устройств: для пользователей мужчин с 79.89% до 19.99%, для пользователей женщин с 80.51% до 19.98%.\n",
    "По таблицам 7-8 особых изменией в доле переходов с 1_home_page на 2_search_page не наблюдается.</p>\n"
   ]
  },
  {
   "cell_type": "markdown",
   "metadata": {},
   "source": [
    "### 3.2 3_payment_page\n",
    "<p>По данным таблицам 5-6 можно заметить снижение процента пользователей дошедших до страницы 3_payment_page между февралем и мартом для мобильных устройств: для пользователей мужчин с 15.56% до 4.2%, для пользователей женщин с 16.8%% до 4.68%.\n",
    "По данным таблиц 7-8 для пользователей ПК также произошло снижение: для пользователей мужчин с 15.56% до 4.2%, для пользователей женщин с 16.8%% до 4.68%.</p>"
   ]
  },
  {
   "cell_type": "markdown",
   "metadata": {},
   "source": [
    "### 3.3 4_payment_confirmation_page\n",
    "#### 3.3.1 Пользователи мобильных устройств\n",
    "<p>В январе и феврале самые высокие показатели конверсияи наблюдается у пользователей мобильных устройств, причем у пользователей женского пола эти показатели немного выше. В марте и апреле также наблюдается большие показатели конверсии у пользователей мобильных устройств, причем в марте конверсия выше у пользователей-женщин, а в апреле у пользователей-мужчин.\n",
    "Также следует отметить, что у пользоватетелй-женщин наблюдается динамика по снижению конверсии как в январе-феврале, так и в марте-апреле, у пользователей-мужчин, наоборот, наблюдается динамика на увеличение конверсии (таблицы 5-6). </p>\n",
    "\n",
    "#### 3.3.2 Пользователи ПК\n",
    "<p>Как описано выше, по сравнению в пользователями мобильных устройств, показатели конверсии у пользователей ПК ниже. Пользователи-женщины лидируют по уровню конверсии только в январе, дале показатели кнверсии выше у пользователей-мужчин. У пользователей мужчин в январе-феврале и в марте-апреле наблюдается динамика на увеличение показателя конверсии. У пользователей-женщин в январе-феврале наблюдается динамика на увеличение показателя конверсии, а в марте-апреле - динамика на его снижение (таблицы 7-8).</p>"
   ]
  },
  {
   "cell_type": "markdown",
   "metadata": {},
   "source": [
    "## Выводы\n",
    "<p>В данной работе произошло знакомство с воронкой продаж и произведен анализ динамики ее изменения с течением времени относительно пола пользователя и типа устройства.</p>"
   ]
  }
 ],
 "metadata": {
  "kernelspec": {
   "display_name": "Python 3",
   "language": "python",
   "name": "python3"
  },
  "language_info": {
   "codemirror_mode": {
    "name": "ipython",
    "version": 3
   },
   "file_extension": ".py",
   "mimetype": "text/x-python",
   "name": "python",
   "nbconvert_exporter": "python",
   "pygments_lexer": "ipython3",
   "version": "3.7.1"
  }
 },
 "nbformat": 4,
 "nbformat_minor": 2
}
