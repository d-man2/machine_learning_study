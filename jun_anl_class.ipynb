{
 "cells": [
  {
   "cell_type": "markdown",
   "metadata": {
    "colab_type": "text",
    "id": "RbR5OTe50Za4"
   },
   "source": [
    "# Классы\n",
    "## Домашнее задание"
   ]
  },
  {
   "cell_type": "markdown",
   "metadata": {
    "colab_type": "text",
    "id": "Xh_DBCdu0Za5"
   },
   "source": [
    "### Вопросы по лекциям\n",
    "\n",
    "#### 1.\n",
    "\n",
    "Напишите название функции, которая является конструктором класса."
   ]
  },
  {
   "cell_type": "markdown",
   "metadata": {
    "colab_type": "text",
    "id": "8-Tj4AMg0Za6"
   },
   "source": [
    "**Ответ:**\n",
    "<p>__init__</p>"
   ]
  },
  {
   "cell_type": "markdown",
   "metadata": {
    "colab_type": "text",
    "id": "lf14yx330Za7"
   },
   "source": [
    "#### 2.\n",
    "\n",
    "На что указывает переменная `self`?"
   ]
  },
  {
   "cell_type": "markdown",
   "metadata": {
    "colab_type": "text",
    "id": "wI-0FWlF0Za8"
   },
   "source": [
    "**Ответ:**\n",
    "<p>На атрибут класса</p>"
   ]
  },
  {
   "cell_type": "markdown",
   "metadata": {
    "colab_type": "text",
    "id": "j_8_O_nl0Za8"
   },
   "source": [
    "#### 3.\n",
    "С помощью какой функции можно проверить, что некая строка является именем одного из атрибутов объекта?"
   ]
  },
  {
   "cell_type": "markdown",
   "metadata": {
    "colab_type": "text",
    "id": "5h8ASTrV0Za9"
   },
   "source": [
    "**Ответ:**\n",
    "<p>hasattr(object, name)</p>"
   ]
  },
  {
   "cell_type": "markdown",
   "metadata": {
    "colab_type": "text",
    "id": "G104VWgj0Za-"
   },
   "source": [
    "#### 4.\n",
    "Когда вызывается метод `__del__`? (относительно события удаления объекта)"
   ]
  },
  {
   "cell_type": "markdown",
   "metadata": {
    "colab_type": "text",
    "id": "Ukzoyxkn0Za-"
   },
   "source": [
    "**Ответ:**\n",
    "<p>перед деструктором</p>"
   ]
  },
  {
   "cell_type": "markdown",
   "metadata": {
    "colab_type": "text",
    "id": "MkF-HyBM0ZbA"
   },
   "source": [
    "#### 5.\n",
    "Верно ли, что атрибут класса перекрывает атрибут объекта?"
   ]
  },
  {
   "cell_type": "markdown",
   "metadata": {
    "colab_type": "text",
    "id": "o7B52kVt0ZbC"
   },
   "source": [
    "**Ответ:**\n",
    "<p>нет, атрибут объекта перекрывает атрибут класса, если атрибуты имеют одинаковые имена и обращение к атрибуту идет через объект класса </p>"
   ]
  },
  {
   "cell_type": "markdown",
   "metadata": {
    "colab_type": "text",
    "id": "kSwZWV2B0ZbC"
   },
   "source": [
    "#### 6.\n",
    "Можно ли атрибуты базового класса вызывать в дочернем классе? Если да, то напишите, нет ли исклчений?"
   ]
  },
  {
   "cell_type": "markdown",
   "metadata": {
    "colab_type": "text",
    "id": "6i74Koih0ZbE"
   },
   "source": [
    "**Ответ:**\n",
    "<p>можно, исключение - название атрибута начинается с '__' </p>"
   ]
  },
  {
   "cell_type": "markdown",
   "metadata": {
    "colab_type": "text",
    "id": "tl1St2O20ZbE"
   },
   "source": [
    "#### 7.\n",
    "Объясните своими словами для чего нужен метод `super`."
   ]
  },
  {
   "cell_type": "markdown",
   "metadata": {
    "colab_type": "text",
    "id": "rg3u1PoY0ZbF"
   },
   "source": [
    "**Ответ:**\n",
    "<p>метод super нужен для того, чтобы внутри класса-наследника производить операции с атрибутами класса-родителя</p>"
   ]
  },
  {
   "cell_type": "markdown",
   "metadata": {
    "colab_type": "text",
    "id": "5AiJn8ut0ZbG"
   },
   "source": [
    "### Практика\n",
    "\n",
    "1. Напишите класс `Fraction` для работы с дробями. Пусть дробь в нашем классе предстает в виде `числитель/знаменатель`. Дробное число должно создаваться по запросу `Fraction(a, b)`, где `a` – это числитель, а `b` – знаменатель дроби. \n",
    "2. Добавьте возможность сложения (сложения через оператор сложения) для дроби. Предполагается, что операция сложения может проводиться как только между дробями, так и между дробью и целым числом. Результат операции должен быть представлен в виде дроби.\n",
    "3. Добавьте возможность взятия разности (вычитания через оператор вычитания) для дробей. Предполагается, что операция вычитания может проводиться как только для двух дробей, так и для дроби и целого числа. Результат операции должен быть представлен в виде дроби.\n",
    "4. Добавьте возможность умножения (умножения через оператор умножения) для дробей. Предполагается, что операция умножения может проводиться как только для двух дробей, так и для дроби и целого числа. Результат операции должен быть представлен в виде дроби.\n",
    "5. Добавьте возможность приведения дроби к целому числу через стандартную функцию `int()`.\n",
    "6. Добавьте возможность приведения дроби к числу с плавающей точкой через стандартную функцию `float()`.\n",
    "7. Создайте дочерний класс `OperationsOnFraction` и добавьте туда собственные методы `getint` и `getfloat`, которые будут возвращать целую часть дроби и представление дроби в виде числа с плавающей точкой соответственно. \n",
    " "
   ]
  },
  {
   "cell_type": "code",
   "execution_count": 1,
   "metadata": {
    "colab": {},
    "colab_type": "code",
    "id": "ru3BJ52J0ZbG"
   },
   "outputs": [],
   "source": [
    "import math\n",
    "class Fraction:\n",
    "    \n",
    "    def __init__(self, a, b = 1):\n",
    "        self.a = a\n",
    "        self.b = b\n",
    "        \n",
    "        \n",
    "    def __str__(self):\n",
    "        return '{}/{}'.format(self.a, self.b)\n",
    "    \n",
    "    \n",
    "    def __add__(self, other):\n",
    "        lcm = (self.b * other.b) // math.gcd(self.b, other.b)\n",
    "        #1\n",
    "        if self.b == 1 or other.b == 1:\n",
    "            if self.b == 1:\n",
    "                self.a *= other.b\n",
    "                return Fraction(int(self.a + other.a), other.b)\n",
    "            elif other.b == 1:\n",
    "                other.a *= self.b\n",
    "                return Fraction(int(self.a + other.a), self.b)\n",
    "                   \n",
    "        elif self.b == lcm or other.b == lcm:\n",
    "            if self.b == lcm:\n",
    "                other.a *= (self.b/other.b)\n",
    "                return Fraction(int(self.a + other.a), self.b)\n",
    "            elif other.b == lcm:\n",
    "                self.a *= (other.b/self.b)\n",
    "                return Fraction(int(self.a + other.a), other.b)\n",
    "            \n",
    "        elif self.b * other.b == lcm:\n",
    "            self.a *= other.b\n",
    "            other.a *= self.b\n",
    "            return Fraction(int(self.a + other.a), int(self.b * other.b))\n",
    "        \n",
    "        elif self.b == other.b:\n",
    "            return Fraction(int(self.a + other.a), int(self.b))\n",
    "                \n",
    "    def __sub__(self, other):\n",
    "        lcm = (self.b * other.b) // math.gcd(self.b, other.b)\n",
    "        #1\n",
    "        if self.b == 1 or other.b == 1:\n",
    "            if self.b == 1:\n",
    "                self.a *= other.b\n",
    "                return Fraction(int(self.a - other.a), other.b)\n",
    "            elif other.b == 1:\n",
    "                other.a *= self.b\n",
    "                return Fraction(int(self.a - other.a), self.b)\n",
    "                   \n",
    "        elif self.b == lcm or other.b == lcm:\n",
    "            if self.b == lcm:\n",
    "                other.a *= (self.b/other.b)\n",
    "                return Fraction(int(self.a - other.a), self.b)\n",
    "            elif other.b == lcm:\n",
    "                self.a *= (other.b/self.b)\n",
    "                return Fraction(int(self.a - other.a), other.b)\n",
    "            \n",
    "        elif self.b * other.b == lcm:\n",
    "            self.a *= other.b\n",
    "            other.a *= self.b\n",
    "            return Fraction(int(self.a - other.a), int(self.b * other.b))\n",
    "        \n",
    "        elif self.b == other.b:\n",
    "            return Fraction(int(self.a - other.a), int(self.b))\n",
    "    \n",
    "    def __mul__(self, other):\n",
    "        return Fraction(int(self.a * other.a), int(self.b * other.b))\n",
    "    \n",
    "    def __int__(self):\n",
    "        return int(self.a / self.b)\n",
    "        \n",
    "    def __float__(self):\n",
    "        return float(self.a / self.b)\n",
    "        \n",
    "    \n",
    "class OperationsOnFraction(Fraction):\n",
    "    def __init__(self, a, b = 1):\n",
    "        super().__init__(a = a, b = b)\n",
    "        self.a = a\n",
    "        self.b = b\n",
    "    \n",
    "    def getint(self):\n",
    "        return int(self.a / self.b)\n",
    "    \n",
    "    def getfloat(self):\n",
    "        return float(self.a / self.b)\n",
    "    \n",
    "    \n",
    "\n"
   ]
  },
  {
   "cell_type": "code",
   "execution_count": 2,
   "metadata": {},
   "outputs": [
    {
     "name": "stdout",
     "output_type": "stream",
     "text": [
      "8/3\n",
      "4/3\n",
      "12/9\n",
      "2\n",
      "2.6666666666666665\n",
      "0\n",
      "0.5\n"
     ]
    }
   ],
   "source": [
    "a = Fraction(6, 3)\n",
    "b = Fraction(2, 3)\n",
    "print(a+b)\n",
    "print(a-b)\n",
    "print(a*b)\n",
    "print(int(a+b))\n",
    "print(float(a+b))\n",
    "\n",
    "c = OperationsOnFraction(3, 6)\n",
    "print(c.getint())\n",
    "print(c.getfloat())"
   ]
  }
 ],
 "metadata": {
  "colab": {
   "collapsed_sections": [],
   "name": "jun_anl_class.ipynb",
   "provenance": []
  },
  "kernelspec": {
   "display_name": "Python 3",
   "language": "python",
   "name": "python3"
  },
  "language_info": {
   "codemirror_mode": {
    "name": "ipython",
    "version": 3
   },
   "file_extension": ".py",
   "mimetype": "text/x-python",
   "name": "python",
   "nbconvert_exporter": "python",
   "pygments_lexer": "ipython3",
   "version": "3.7.1"
  }
 },
 "nbformat": 4,
 "nbformat_minor": 1
}
