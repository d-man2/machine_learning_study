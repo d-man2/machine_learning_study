{
 "cells": [
  {
   "cell_type": "markdown",
   "metadata": {
    "colab_type": "text",
    "id": "X9wfb-pqPzYu"
   },
   "source": [
    "# Циклы и условия\n",
    "\n",
    "## Домашняя работа\n",
    "Эта домашняя работа должна быть решена **БЕЗ** использования готовых функций (если именно они \"решают\" задачу) и сторонних библиотек. Используйте циклы и условия."
   ]
  },
  {
   "cell_type": "markdown",
   "metadata": {
    "colab_type": "text",
    "id": "DMpu8uUoPzY0"
   },
   "source": [
    "## 1\n",
    "\n",
    "Напишите программу, которая будет запрашивать на вход числа (через запятую на одной строке) и выводить наибольшее значение из списка.\n",
    "<br><br>\n",
    "*Ограничение: нельзя пользоваться готовой функцией для нахождения максимума (например, `max()`), готовыми функциями и методами сортировки (например, `sort()`,`sorted()`).*"
   ]
  },
  {
   "cell_type": "code",
   "execution_count": 13,
   "metadata": {
    "colab": {},
    "colab_type": "code",
    "id": "dHs34-p-PzY3"
   },
   "outputs": [
    {
     "name": "stdout",
     "output_type": "stream",
     "text": [
      "5, 2, 2, 5, 1, 2, 3, 4\n",
      "max =  5\n"
     ]
    }
   ],
   "source": [
    "list_items = list(map(int, input().split(', ')))\n",
    "max_item = 0\n",
    "for i in range(len(list_items)):\n",
    "    if max_item < list_items[i]:\n",
    "        max_item = list_items[i]\n",
    "print('max = ', max_item)\n",
    "\n"
   ]
  },
  {
   "cell_type": "markdown",
   "metadata": {
    "colab_type": "text",
    "id": "sCF9Hd9rPzZD"
   },
   "source": [
    "### 2\n",
    "\n",
    "Напишите программу, которая будет запрашивать на вход числа (каждое с новой строки) до тех пор, пока не будет введен ноль (0). На выход должно выводиться второе по величине значение.\n",
    "<br><br>\n",
    "*Ограничение: нельзя пользоваться готовой функцией для нахождения максимума (например, `max()`), готовыми функциями и методами сортировки (например, `sort()`,`sorted()`).*"
   ]
  },
  {
   "cell_type": "code",
   "execution_count": 14,
   "metadata": {
    "colab": {},
    "colab_type": "code",
    "id": "yrJk-mEjPzZF"
   },
   "outputs": [
    {
     "name": "stdout",
     "output_type": "stream",
     "text": [
      "1\n",
      "2\n",
      "3\n",
      "3\n",
      "5\n",
      "5\n",
      "0\n",
      "Второе по величине значение:  3\n"
     ]
    }
   ],
   "source": [
    "list_items2 = []\n",
    "item = int(input())\n",
    "list_items2.append(item)\n",
    "while item != 0:\n",
    "    item = int(input())\n",
    "    list_items2.append(item)\n",
    "#поиск максимального элемента\n",
    "max_item = 0\n",
    "for i in range(len(list_items2)):\n",
    "    if max_item < list_items2[i]:\n",
    "        max_item = list_items2[i]\n",
    "#определение кол-ва вхождений max_item в list_items2\n",
    "max_count = list_items2.count(max_item)\n",
    "#удаление из list_items2 всех max_item\n",
    "for n in range(max_count):\n",
    "    list_items2.remove(max_item)\n",
    "#определение максимального элемента\n",
    "max_item = 0\n",
    "for i in range(len(list_items2)):\n",
    "    if max_item < list_items2[i]:\n",
    "        max_item = list_items2[i]\n",
    "print('Второе по величине значение: ', max_item)"
   ]
  },
  {
   "cell_type": "markdown",
   "metadata": {
    "colab_type": "text",
    "id": "fdJZMUtGPzZN"
   },
   "source": [
    "### 3\n",
    "\n",
    "Напишите программу, которая принимает на вход год, а на выход выдает количество дней в этом году."
   ]
  },
  {
   "cell_type": "code",
   "execution_count": 15,
   "metadata": {
    "colab": {},
    "colab_type": "code",
    "id": "Dk6PDx-jPzZP"
   },
   "outputs": [
    {
     "name": "stdout",
     "output_type": "stream",
     "text": [
      "2010\n",
      "В году 365 дней\n"
     ]
    }
   ],
   "source": [
    "y = int(input())\n",
    "if y % 4 != 0:\n",
    "    print('В году 365 дней')\n",
    "elif y % 100 == 0:\n",
    "    if y % 400 == 0:\n",
    "        print(print('В году 366 дней'))\n",
    "    else:\n",
    "        print(print('В году 365 дней'))\n",
    "else:\n",
    "    print(print('В году 366 дней'))"
   ]
  },
  {
   "cell_type": "markdown",
   "metadata": {
    "colab_type": "text",
    "id": "wFGBh0dYPzZV"
   },
   "source": [
    "### 4\n",
    "\n",
    "Напишите программу, которая на вход получает координаты двух клеток шахматной доски и выводит соощение о том, являются ли эти клетки одного цвета."
   ]
  },
  {
   "cell_type": "code",
   "execution_count": 2,
   "metadata": {
    "colab": {},
    "colab_type": "code",
    "id": "k-8POcqGPzZW"
   },
   "outputs": [
    {
     "name": "stdout",
     "output_type": "stream",
     "text": [
      "1\n",
      "2\n",
      "3\n",
      "4\n",
      "Клетки одного цвета\n"
     ]
    }
   ],
   "source": [
    "x1 = int(input())\n",
    "y1 = int(input())\n",
    "x2 = int(input())\n",
    "y2 = int(input())\n",
    "if (x1 + y1 + x2 + y2) % 2 == 0:\n",
    "    print('Клетки одного цвета')\n",
    "else:\n",
    "    print('Клетки разных цветов')\n",
    "\n"
   ]
  },
  {
   "cell_type": "markdown",
   "metadata": {
    "colab_type": "text",
    "id": "O594rz0tPzZb"
   },
   "source": [
    "### 5\n",
    "\n",
    "Напишите программу, которая на вход получает число, а на выходе сообщает, простое это число или составное."
   ]
  },
  {
   "cell_type": "markdown",
   "metadata": {
    "colab": {},
    "colab_type": "code",
    "id": "-Oy1AesyPzZd"
   },
   "source": [
    "#### Таблица признаков делимости чисел\n",
    "#### Число n Число a делится на число n тогда и только тогда, когда\n",
    "1.     2\t Последняя цифра числа a делится на 2\n",
    "2.     3\t Сумма цифр числа a делится на 3\n",
    "3.     4\t Число, составленное из двух последних цифр числа a, делится на 4\n",
    "4.     5\t Число a оканчивается цифрой 0 или 5\n",
    "5.     6\t Число a делится на 2 и на 3\n",
    "6.     7\t Знакочередующаяся сумма трёхзначных граней* числа a делится на 7\n",
    "7.     8\t Число, составленное из трёх последних цифр числа a, делится на 8\n",
    "8.     9\t Сумма цифр числа a делится на 9\n",
    "9.     10\t Число a оканчивается цифрой 0\n",
    "10.     11\t Знакочередующаяся сумма цифр числа a делится на 11\n",
    "11.    12\t Число a делится на 3 и на 4\n",
    "12.     13\t Знакочередующаяся сумма трёхзначных граней* a делится на 13\n",
    "13.     25\t Число, составленное из двух последних цифр числа a, делится на 25\n",
    "<br></br>\n",
    "*Грани числа – числа, полученные при разбиении исходного числа на двузначные или трёхзначные числа, взятые справа налево. Например, разбиение числа 1234567 на двузначные грани выглядит так: 1|23|45|67, а на трёхзначные так: 1|234|567."
   ]
  },
  {
   "cell_type": "code",
   "execution_count": 16,
   "metadata": {},
   "outputs": [
    {
     "name": "stdout",
     "output_type": "stream",
     "text": [
      "173743\n",
      "число простое\n"
     ]
    }
   ],
   "source": [
    "value = str(input())\n",
    "sym_count = len(value)\n",
    "\n",
    "#знакочередующаяся сумма трехзначных граней слева на право первый знак '+'\n",
    "if sym_count % 3 == 0:\n",
    "    triplet_mas = []\n",
    "    for i in range(0, sym_count, 3):\n",
    "        triplet_mas.append(int(value[i])+int(value[i+1])+int(value[i+2]))\n",
    "    #print(triplet_mas)\n",
    "else:\n",
    "    triplet_mas = []\n",
    "    if (sym_count - 1) % 3 == 0:\n",
    "        triplet_mas.append(int(value[0]))\n",
    "        for i in range(1, sym_count, 3):\n",
    "            triplet_mas.append(int(value[i])+int(value[i+1])+int(value[i+2]))\n",
    "        #print(triplet_mas)\n",
    "    elif (sym_count - 2) % 3 == 0:\n",
    "        triplet_mas.append(int(value[0])+int(value[1]))\n",
    "        for i in range(2, sym_count, 3):\n",
    "            triplet_mas.append(int(value[i])+int(value[i+1])+int(value[i+2]))\n",
    "        #print(triplet_mas)\n",
    "        \n",
    "triplet_mas_count = len(triplet_mas)\n",
    "positive_part_triplet_mas = 0\n",
    "negative_part_triplet_mas = 0\n",
    "for i in range(0, triplet_mas_count, 2):\n",
    "    positive_part_triplet_mas += triplet_mas[i]\n",
    "for i in range(1, triplet_mas_count, 2):\n",
    "    negative_part_triplet_mas += triplet_mas[i]\n",
    "triplet_sum = positive_part_triplet_mas - negative_part_triplet_mas\n",
    "#print(triplet_sum)\n",
    "\n",
    "#правила для чисел состоящих из 1 цифры\n",
    "if sym_count == 1:\n",
    "    if value == '1':\n",
    "        print('1 не относится ни к простым, ни к составным числам')\n",
    "    elif (int(value)%2 == 0 or int(value)%3 == 0) and value != '2' and value != '3':\n",
    "        print('число составное')\n",
    "    else:\n",
    "        print('число простое')\n",
    "        \n",
    "#правила для чисел состоящих из нескольких цифр\n",
    "else:\n",
    "    sym_int_list = []\n",
    "    sym_amount = 0\n",
    "    for i in range(sym_count):\n",
    "        sym_int_list.append(int(value[i]))\n",
    "        sym_amount += int(value[i])\n",
    "    \n",
    "    positive_part_mas = 0\n",
    "    negative_part_mas = 0\n",
    "    for i in range(0, sym_count, 2):\n",
    "        positive_part_mas += sym_int_list[i]\n",
    "    for i in range(1, sym_count, 2):\n",
    "        negative_part_mas += sym_int_list[i]\n",
    "    result_sum = positive_part_mas - negative_part_mas\n",
    "    #print(result_sum)\n",
    "        \n",
    "    #1,4 и 9 правила\n",
    "    if sym_int_list[-1] == 0 or sym_int_list[-1] == 2 or sym_int_list[-1] == 4 or sym_int_list[-1] == 5 or sym_int_list[-1] == 6 or sym_int_list[-1] == 8:\n",
    "        #print('1')\n",
    "        print('число составное')\n",
    "    #2 правило \n",
    "    elif sym_amount % 3 == 0:\n",
    "        #print('2')\n",
    "        print('число составное')\n",
    "    #3, 13 правила\n",
    "    elif (int(str(sym_int_list[-2]) + str(sym_int_list[-1])) % 4 == 0) or (int(str(sym_int_list[-2]) + str(sym_int_list[-1])) % 25 == 0):\n",
    "        #print('3')\n",
    "        print('число составное')\n",
    "    #5 правило можно опустить\n",
    "    #6, 12 правила\n",
    "    elif sym_count > 3 and (triplet_sum % 7 == 0 or triplet_sum % 13 == 0):\n",
    "        #print('4')\n",
    "        print('число составное')\n",
    "    #7 правило\n",
    "    elif int(str(sym_int_list[-3]) + str(sym_int_list[-2]) + str(sym_int_list[-1])) % 8 == 0:\n",
    "        #print('5')\n",
    "        print('число составное')\n",
    "    #8 правило\n",
    "    elif sym_amount % 9 == 0:\n",
    "        #print('6')\n",
    "        print('число составное')\n",
    "    #10 правило\n",
    "    elif result_sum % 11 == 0:\n",
    "        #print('7')\n",
    "        print('число составное')\n",
    "        \n",
    "        \n",
    "# поиск возможного целочисленного делителя числа исключая предыдущие правила и\n",
    "# ограничивая поиск числом, которое является результатом целочисленного деления числа на 2 плюс 1\n",
    "    else:\n",
    "        value = int(value)\n",
    "        \n",
    "        for i in range(14, (value//2)+2, 1):\n",
    "            if i != 25:\n",
    "                if value % i == 0:\n",
    "                    print('число составное')\n",
    "                    break\n",
    "                elif i == (value//2)+1 and value % i != 0:\n",
    "                    print('число простое') \n",
    "                \n",
    "        \n",
    "    \n",
    "       "
   ]
  },
  {
   "cell_type": "markdown",
   "metadata": {
    "colab_type": "text",
    "id": "QzBAQaW8PzZg"
   },
   "source": [
    "### 6\n",
    "\n",
    "Напишите программу, которая на вход получает целое число больше 2 и выводит по нему его наименьший натуральный делитель, отличный от 1."
   ]
  },
  {
   "cell_type": "code",
   "execution_count": 20,
   "metadata": {
    "colab": {},
    "colab_type": "code",
    "id": "Z2QzgAYKPzZi"
   },
   "outputs": [
    {
     "name": "stdout",
     "output_type": "stream",
     "text": [
      "Введите целое число больше 2-х: 45\n",
      "Наименьший натуральный деитель числа:  3\n"
     ]
    }
   ],
   "source": [
    "number = int(input('Введите целое число больше 2-х: '))\n",
    "div = 2\n",
    "while number % div != 0:\n",
    "    div += 1\n",
    "print('Наименьший натуральный деитель числа: ', div)\n",
    "    "
   ]
  },
  {
   "cell_type": "markdown",
   "metadata": {
    "colab_type": "text",
    "id": "Mdg_IAfFPzZk"
   },
   "source": [
    "### 7\n",
    "\n",
    "Напишите программу, которая поможет составить план тренировок для подготовки к марафону. Она получает на вход число километров на планируемом марафоне, сколько пользователь планирует пробежать в первый день тренировок и на сколько процентов планирует увеличивать каждый день это расстояние. На выходе программа должна выдавать, сколько дней пользователю потребуется для того, чтобы подготовиться пробежать целевое количество километров.\n",
    "<br><br>\n",
    "*Ограничение: нельзя пользоваться функцией `ceil()` из модуля `math` и ее аналогами.*"
   ]
  },
  {
   "cell_type": "code",
   "execution_count": 21,
   "metadata": {
    "colab": {},
    "colab_type": "code",
    "id": "mXeF6AMWPzZl"
   },
   "outputs": [
    {
     "name": "stdout",
     "output_type": "stream",
     "text": [
      "Введите через запятую: полную дистанцию марафона в км, кол-во км в первый день тренировок и ежедневный процент увеличения расстояния: 10, 1.5, 10\n",
      "Длительность программы составит 21 дней\n"
     ]
    }
   ],
   "source": [
    "begin_users_message = 'Введите через запятую: полную дистанцию марафона в км, кол-во км в первый день тренировок и ежедневный процент увеличения расстояния: '\n",
    "full_distance_km, first_train_day_dist_km, up_dist_perday_percent = map(float, input(users_message).split(','))\n",
    "percent_to_decimal = up_dist_perday_percent / 100\n",
    "days_count = 1\n",
    "day_growth = 0\n",
    "training_distance_cache = first_train_day_dist_km\n",
    "while training_distance_cache < full_distance_km:\n",
    "    days_count += 1\n",
    "    day_growth = training_distance_cache * percent_to_decimal\n",
    "    training_distance_cache = training_distance_cache + day_growth\n",
    "    #print(f'{days_count} {training_distance_cache}')\n",
    "\n",
    "days_count_str = str(days_count)\n",
    "last_2_num = ''\n",
    "if len(days_count_str) > 2:\n",
    "    last_2_num = days_count_str[-2] + days_count_str[-1]\n",
    "    \n",
    "if days_count == 1 or  last_2_num == '01':\n",
    "    day = 'день'\n",
    "elif days_count == 2 or days_count == 3 or days_count == 4 or last_2_num == '02' or last_2_num == '03' or last_2_num == '04':\n",
    "    day = 'дня'\n",
    "else:\n",
    "    day = 'дней'\n",
    "print(f'Длительность программы составит {days_count} {day}')\n"
   ]
  },
  {
   "cell_type": "markdown",
   "metadata": {
    "colab_type": "text",
    "id": "sxKoWpYKPzZo"
   },
   "source": [
    "### 8\n",
    "\n",
    "Напишите программу, которая на вход получает число n и считает по нему сумму 1²+2²+3²+...+n².\n",
    "<br><br>\n",
    "*Ограничение: нельзя пользоваться функцией `sum()` и ее аналогами.*"
   ]
  },
  {
   "cell_type": "code",
   "execution_count": 26,
   "metadata": {
    "colab": {},
    "colab_type": "code",
    "id": "RiPlWLm6PzZp"
   },
   "outputs": [
    {
     "name": "stdout",
     "output_type": "stream",
     "text": [
      "Введите целое число: 1000000\n",
      "Ответ: 333333833333500000\n"
     ]
    }
   ],
   "source": [
    "number = int(input('Введите целое число: '))\n",
    "sum_ = 0\n",
    "for i in range(1, number + 1):\n",
    "    sum_ += i ** 2\n",
    "print(f'Ответ: {sum_}')\n"
   ]
  },
  {
   "cell_type": "markdown",
   "metadata": {
    "colab_type": "text",
    "id": "aXzG4-wdPzZr"
   },
   "source": [
    "## 9\n",
    "\n",
    "Напишите программу, которая на вход получает число n и считает по нему сумму сумму 1! + 2! + 3! + ... + n!\n",
    "<br><br>\n",
    "*Ограничение: нельзя пользоваться готовой функцией `factorial()` из модуля `math`, функцией `sum()` и их аналогами.*"
   ]
  },
  {
   "cell_type": "code",
   "execution_count": 31,
   "metadata": {
    "colab": {},
    "colab_type": "code",
    "id": "KBEXUEDQPzZs"
   },
   "outputs": [
    {
     "name": "stdout",
     "output_type": "stream",
     "text": [
      "Введите целое число: 3\n",
      "Ответ: 9\n"
     ]
    }
   ],
   "source": [
    "number = int(input('Введите целое число: '))\n",
    "sum_ = 0\n",
    "for i in range(1, number + 1):\n",
    "    fact = 1\n",
    "    for j in range(1, i + 1):\n",
    "        fact *= j\n",
    "        #print(f'{sum_} {fact}')\n",
    "    sum_ += fact\n",
    "print(f'Ответ: {sum_}')\n",
    "\n"
   ]
  },
  {
   "cell_type": "markdown",
   "metadata": {
    "colab_type": "text",
    "id": "4nsOuiWVPzZu"
   },
   "source": [
    "### 10\n",
    "\n",
    "Напишите программу, которая получает на вход последовательность чисел (каждое число с новой строки до того момента, пока пользователь не введет 0) и считает количество четных элементов в последовательности."
   ]
  },
  {
   "cell_type": "code",
   "execution_count": 37,
   "metadata": {
    "colab": {},
    "colab_type": "code",
    "id": "xktF2cocPzZv"
   },
   "outputs": [
    {
     "name": "stdout",
     "output_type": "stream",
     "text": [
      "Введите целое число (чтобы закончить введите \"0\"): 1\n",
      "Введите целое число (чтобы закончить введите \"0\"): 2\n",
      "Введите целое число (чтобы закончить введите \"0\"): 3\n",
      "Введите целое число (чтобы закончить введите \"0\"): 4\n",
      "Введите целое число (чтобы закончить введите \"0\"): 5\n",
      "Введите целое число (чтобы закончить введите \"0\"): 6\n",
      "Введите целое число (чтобы закончить введите \"0\"): 0\n",
      "Кол-во четных елементов: 3\n"
     ]
    }
   ],
   "source": [
    "number = int(input('Введите целое число (чтобы закончить введите \"0\"): '))\n",
    "if number != 0:\n",
    "    sum_even_numbers = 0 \n",
    "    if number % 2 == 0 and number !=0:\n",
    "        sum_even_numbers += 1    \n",
    "    while number != 0:\n",
    "        number = int(input('Введите целое число (чтобы закончить введите \"0\"): '))\n",
    "        if number % 2 == 0 and number !=0:\n",
    "            sum_even_numbers += 1\n",
    "    print(f'Кол-во четных элементов: {sum_even_numbers}')\n",
    "        \n"
   ]
  },
  {
   "cell_type": "markdown",
   "metadata": {
    "colab_type": "text",
    "id": "hyC9QGXPPzZx"
   },
   "source": [
    "### 11\n",
    "\n",
    "Напишите программу, которая формирует список игроков женской команды по футболу. Программа должна записывать возраст и пол претендента. Возраст должен запрашиваться после пола и только в том случае, если пол претендента женский. Если пол претендента мужской, программа должна сообщать о том, что он не подходит. Возраст претенденток должен быть от 18 до 35 лет. Если кандидат удовлетворяет требованиям, должно появляться соответствующее сообщение."
   ]
  },
  {
   "cell_type": "code",
   "execution_count": 7,
   "metadata": {
    "colab": {},
    "colab_type": "code",
    "id": "qSDK-zQ4PzZx"
   },
   "outputs": [
    {
     "name": "stdout",
     "output_type": "stream",
     "text": [
      "Программа для подбора игроков женской футбольной команды.\n",
      "Для запуска введите цифру 1, для отмены - цифру 0:1\n",
      "Число игроков в команде: 0.\n",
      "Чтобы вывести список игроков введите цифру 1, чтобы внести данные игрока - цифру 2, для выхода - цифру 0:2\n",
      "Введите пол игрока (М/Ж): Ж\n",
      "Введите возраст игрока игрока: 25\n",
      "Игрок добавлен в команду!\n",
      "Число игроков в команде: 1.\n",
      "Чтобы вывести список игроков введите цифру 1, чтобы внести данные игрока - цифру 2, для выхода - цифру 0:2\n",
      "Введите пол игрока (М/Ж): М\n",
      "В команду принимаются только игроки женского пола\n",
      "Число игроков в команде: 1.\n",
      "Чтобы вывести список игроков введите цифру 1, чтобы внести данные игрока - цифру 2, для выхода - цифру 0:1\n",
      "[[25, 'Ж']]\n",
      "Число игроков в команде: 1.\n",
      "Чтобы вывести список игроков введите цифру 1, чтобы внести данные игрока - цифру 2, для выхода - цифру 0:0\n"
     ]
    }
   ],
   "source": [
    "trigger_message = int(input(f'Программа для подбора игроков женской футбольной команды.\\nДля запуска введите цифру 1, для отмены - цифру 0:'))\n",
    "if start_message == 1:\n",
    "    players_count = 0\n",
    "    players_list = []\n",
    "    while trigger_message != 0:\n",
    "        trigger_message = int(input(f'Число игроков в команде: {players_count}.\\nЧтобы вывести список игроков введите цифру 1, чтобы внести данные игрока - цифру 2, для выхода - цифру 0:'))\n",
    "        if trigger_message == 2: \n",
    "            sex = str(input('Введите пол игрока (М/Ж): '))\n",
    "            if sex == 'Ж':\n",
    "                age = int(input('Введите возраст игрока игрока: '))\n",
    "                if age >= 18 and age <= 35:\n",
    "                    print('Игрок добавлен в команду!')\n",
    "                    players_list.append([age, sex])\n",
    "                    players_count += 1\n",
    "            else:\n",
    "                print('В команду принимаются только игроки женского пола')\n",
    "        elif trigger_message == 1:\n",
    "            print(players_list)"
   ]
  },
  {
   "cell_type": "markdown",
   "metadata": {
    "colab_type": "text",
    "id": "B4JAB8AqPzZ0"
   },
   "source": [
    "### 12\n",
    "\n",
    "\n",
    "Напишите программу, которая на вход получает максимальную ширину ромба и рисует его. Гарантируется, что входное число всегда нечетное.\n",
    " \n",
    "Пример вывода для числа 5:\n",
    "```  \n",
    "  *\n",
    " ***\n",
    "*****\n",
    " ***\n",
    "  *```"
   ]
  },
  {
   "cell_type": "code",
   "execution_count": 19,
   "metadata": {},
   "outputs": [
    {
     "name": "stdout",
     "output_type": "stream",
     "text": [
      "Введите ширину ромба: 17\n",
      "        *        \n",
      "       ***       \n",
      "      *****      \n",
      "     *******     \n",
      "    *********    \n",
      "   ***********   \n",
      "  *************  \n",
      " *************** \n",
      "*****************\n",
      " *************** \n",
      "  *************  \n",
      "   ***********   \n",
      "    *********    \n",
      "     *******     \n",
      "      *****      \n",
      "       ***       \n",
      "        *        \n"
     ]
    }
   ],
   "source": [
    "number = int(input('Введите ширину ромба: '))\n",
    "point = '*'\n",
    "bcksp = ' '\n",
    "part_minus_1 = int((number - 1) / 2)\n",
    "part_minus_1_ = -part_minus_1\n",
    "cnt = 1\n",
    "for i in range(part_minus_1_, part_minus_1+1, 1):\n",
    "    if i <= 0:\n",
    "        if i == part_minus_1_:\n",
    "            #print(f'i = {i}, cnt = {cnt}')\n",
    "            print((abs(i)*bcksp)+(cnt*point)+(abs(i)*bcksp))\n",
    "        else:\n",
    "            cnt += 2\n",
    "            #print(f'i = {i}, cnt = {cnt}')\n",
    "            print((abs(i)*bcksp)+(cnt*point)+(abs(i)*bcksp))\n",
    "    else:\n",
    "        cnt -= 2\n",
    "        #print(f'i = {i}, cnt = {cnt}')\n",
    "        print((abs(i)*bcksp)+(cnt*point)+(abs(i)*bcksp))\n",
    "    "
   ]
  },
  {
   "cell_type": "markdown",
   "metadata": {
    "colab_type": "text",
    "id": "xrIXWj0yPzZ2"
   },
   "source": [
    "### 13\n",
    "\n",
    "Напишите программу, которая запрашивает у пользователя сторону квадрата и символ, а затем рисует этот символ по диагоналям квадрата. Гарантируется, что входное число всегда нечетное.\n",
    " \n",
    "Пример вывода для числа 5:\n",
    "```\n",
    " \n",
    "#   #\n",
    " # #\n",
    "  #  \n",
    " # #\n",
    "#   #\n",
    "```"
   ]
  },
  {
   "cell_type": "code",
   "execution_count": 40,
   "metadata": {
    "colab": {},
    "colab_type": "code",
    "id": "oUKNB9TaPzZ3",
    "outputId": "47421e19-6d45-4cef-9df8-0d89200499ca"
   },
   "outputs": [
    {
     "name": "stdout",
     "output_type": "stream",
     "text": [
      "Введите сторону квадрата: 5\n",
      "Введите знак: @\n",
      "@   @\n",
      " @ @ \n",
      "  @  \n",
      " @ @ \n",
      "@   @\n"
     ]
    }
   ],
   "source": [
    "number = int(input('Введите сторону квадрата: '))\n",
    "sign = str(input('Введите знак: '))\n",
    "point = sign\n",
    "bcksp = len(sign) * ' '\n",
    "part_minus_1 = int((number - 1) / 2)\n",
    "part_minus_1_ = -part_minus_1\n",
    "cnt = 1\n",
    "cnt2 = number - 2\n",
    "for i in range(part_minus_1_, part_minus_1+1, 1):\n",
    "    if i < 0:\n",
    "        if i == part_minus_1_:\n",
    "            #print(f'i = {i}, cnt = {cnt}, cnt2 = {cnt2}')\n",
    "            print((cnt*point)+(cnt2*bcksp)+(cnt*point))\n",
    "            \n",
    "        else:\n",
    "            cnt2 -= 2\n",
    "            #print(f'i = {i}, cnt = {cnt}, cnt2 = {cnt2}')\n",
    "            print((cnt*bcksp)+(1*point)+(cnt2*bcksp)+(1*point)+(cnt*bcksp))\n",
    "            cnt += 1\n",
    "            \n",
    "    elif i == 0: \n",
    "        #print(f'i = {i}, cnt = {cnt}, cnt2 = {cnt2}')\n",
    "        print((cnt*bcksp)+(1*point)+(cnt*bcksp))\n",
    "     \n",
    "    elif i > 0 and i != part_minus_1:\n",
    "        cnt -= 1  \n",
    "        #print(f'i = {i}, cnt = {cnt}, cnt2 = {cnt2}')\n",
    "        print((cnt*bcksp)+(1*point)+(cnt2*bcksp)+(1*point)+(cnt*bcksp))\n",
    "        cnt2 += 2\n",
    "        \n",
    "    elif i > 0 and i == part_minus_1:\n",
    "        #print(f'i = {i}, cnt = {cnt}, cnt2 = {cnt2}')\n",
    "        print((cnt*point)+(cnt2*bcksp)+(cnt*point))"
   ]
  },
  {
   "cell_type": "markdown",
   "metadata": {
    "colab_type": "text",
    "id": "3GaiPsFYPzZ_"
   },
   "source": [
    "### 14\n",
    "\n",
    "В корзине лежат шары. Если разложить их в кучи по 2, останется один. Если разложить в кучи по 3, останется один. Если разложить в кучи по 4, останется один. Если разложить в кучи по 5, останется один. Если разложить в кучи по 6, останется один. Если разложить в кучи по 7, не будет остатка. Нужно найти минимальное количество шаров, удовлетворяющее условию.  <br>"
   ]
  },
  {
   "cell_type": "code",
   "execution_count": 2,
   "metadata": {
    "colab": {
     "base_uri": "https://localhost:8080/",
     "height": 32
    },
    "colab_type": "code",
    "executionInfo": {
     "elapsed": 1380,
     "status": "ok",
     "timestamp": 1571844968537,
     "user": {
      "displayName": "Анастасия Рогачевская",
      "photoUrl": "https://lh3.googleusercontent.com/a-/AAuE7mB92snW1RMZTGvFBrPMpd_BzLIeP2XnbSZ3ZNVFUQ=s64",
      "userId": "07714489023974728369"
     },
     "user_tz": -180
    },
    "id": "V2msEhQkPzZ_",
    "outputId": "c36c996d-347b-430f-f53e-65e37eb23108"
   },
   "outputs": [],
   "source": [
    "### YOUR CODE HERE ###\n",
    "\n"
   ]
  },
  {
   "cell_type": "markdown",
   "metadata": {
    "colab_type": "text",
    "id": "5pOjlON-PzaC"
   },
   "source": [
    "### 15\n",
    "\n",
    "Рабочие клеили обои на стены. Первую стену поклеили за M минут, а каждую следующую на 5 минут больше, чем предыдущую.\n",
    "Напишите программу, которая запрашивает сколько стен было в квартире под поклейку, а также время работы с первой стеной. Программа должна выводить, сколько **часов** рабочие потратили на поклейку обоев во всей квартире. Ответом должно быть целое число.\n",
    "<br><br>\n",
    "*Ограничение: нельзя пользоваться готовыми функциями `bool()`, `floor()` и их аналогами.*"
   ]
  },
  {
   "cell_type": "code",
   "execution_count": 0,
   "metadata": {
    "colab": {},
    "colab_type": "code",
    "id": "Pmu96rWGPzaD"
   },
   "outputs": [],
   "source": [
    "### YOUR CODE HERE ###\n",
    "\n"
   ]
  },
  {
   "cell_type": "markdown",
   "metadata": {
    "colab_type": "text",
    "id": "63C6Za3CPzaF"
   },
   "source": [
    "### 16\n",
    "\n",
    "Напишите программу, которая убирает из списка повторяющиеся элементы. Программа должна запрашивать на вход слова, каждое с новой строки, пока пользователь не введет пустую строку. Затем должна выводить список без повторяющихся элементов. \n",
    "<br><br>\n",
    "*Ограничение: нельзя пользоваться готовой функцией `set()` и ее аналогами.*"
   ]
  },
  {
   "cell_type": "code",
   "execution_count": 13,
   "metadata": {
    "colab": {},
    "colab_type": "code",
    "id": "MQ-eDkbAPzaG"
   },
   "outputs": [
    {
     "name": "stdout",
     "output_type": "stream",
     "text": [
      "Введите слово: 123\n",
      "Введите слово: 123\n",
      "Введите слово: 111\n",
      "Введите слово: 111\n",
      "Введите слово: \n",
      "['123', '111']\n"
     ]
    }
   ],
   "source": [
    "list_items_str = []\n",
    "item = str(input('Введите слово: '))\n",
    "while len(item) != 0:\n",
    "    list_items_str.append(item)\n",
    "    item = str(input('Введите слово: '))   \n",
    "#поиск повторяющегося слова\n",
    "list_items_str_distinct = []\n",
    "for i in range(len(list_items_str)):\n",
    "    #print(f'i={i},list_items_str={list_items_str[i]}')\n",
    "    cnt = 0\n",
    "    for j in range(len(list_items_str_distinct)):\n",
    "        if len(list_items_str_distinct) == 0:\n",
    "            list_items_str_distinct.append(list_items_str[i])\n",
    "        else:\n",
    "            if list_items_str[i] != list_items_str_distinct[j]:\n",
    "                cnt += 1\n",
    "    if cnt == len(list_items_str_distinct):\n",
    "        list_items_str_distinct.append(list_items_str[i])\n",
    "              \n",
    "print(list_items_str_distinct)\n",
    "\n",
    "\n"
   ]
  },
  {
   "cell_type": "markdown",
   "metadata": {
    "colab_type": "text",
    "id": "jueSDORaPzaI"
   },
   "source": [
    "### 17\n",
    "\n",
    "Напишите программу, которая выводит число пар одинаковых элементов в списке. Программа должна запрашивать на вход слова, каждое с новой строки, пока пользователь не введет пустую строку. "
   ]
  },
  {
   "cell_type": "code",
   "execution_count": 0,
   "metadata": {
    "colab": {},
    "colab_type": "code",
    "id": "49tbEr3NPzaJ"
   },
   "outputs": [],
   "source": [
    "list_items_str = []\n",
    "item = str(input('Введите слово: '))\n",
    "while len(item) != 0:\n",
    "    list_items_str.append(item)\n",
    "    item = str(input('Введите слово: '))  \n",
    "\n"
   ]
  },
  {
   "cell_type": "markdown",
   "metadata": {
    "colab_type": "text",
    "id": "yVLcBrD-PzaN"
   },
   "source": [
    "### 18\n",
    "\n",
    "Будем считать, что кубик может иметь неограниченное количество граней (натуральное число). Напишите программу, которая запрашивает, сколько граней имеется у двух разных кубиков. Затем выводит все возможные комбинации результатов бросков двух таких кубиков. "
   ]
  },
  {
   "cell_type": "code",
   "execution_count": 46,
   "metadata": {
    "colab": {},
    "colab_type": "code",
    "id": "7I2va0KwPzaR"
   },
   "outputs": [
    {
     "name": "stdout",
     "output_type": "stream",
     "text": [
      "Введите кол-во граней первого кубика: 6\n",
      "Введите кол-во граней второго кубика: 7\n",
      "Все возможные комбинации бросков кубиков: \n",
      "#1\t первый кубик: 1, второй кубик: 1\n",
      "#2\t первый кубик: 1, второй кубик: 2\n",
      "#3\t первый кубик: 1, второй кубик: 3\n",
      "#4\t первый кубик: 1, второй кубик: 4\n",
      "#5\t первый кубик: 1, второй кубик: 5\n",
      "#6\t первый кубик: 1, второй кубик: 6\n",
      "#7\t первый кубик: 1, второй кубик: 7\n",
      "#8\t первый кубик: 2, второй кубик: 1\n",
      "#9\t первый кубик: 2, второй кубик: 2\n",
      "#10\t первый кубик: 2, второй кубик: 3\n",
      "#11\t первый кубик: 2, второй кубик: 4\n",
      "#12\t первый кубик: 2, второй кубик: 5\n",
      "#13\t первый кубик: 2, второй кубик: 6\n",
      "#14\t первый кубик: 2, второй кубик: 7\n",
      "#15\t первый кубик: 3, второй кубик: 1\n",
      "#16\t первый кубик: 3, второй кубик: 2\n",
      "#17\t первый кубик: 3, второй кубик: 3\n",
      "#18\t первый кубик: 3, второй кубик: 4\n",
      "#19\t первый кубик: 3, второй кубик: 5\n",
      "#20\t первый кубик: 3, второй кубик: 6\n",
      "#21\t первый кубик: 3, второй кубик: 7\n",
      "#22\t первый кубик: 4, второй кубик: 1\n",
      "#23\t первый кубик: 4, второй кубик: 2\n",
      "#24\t первый кубик: 4, второй кубик: 3\n",
      "#25\t первый кубик: 4, второй кубик: 4\n",
      "#26\t первый кубик: 4, второй кубик: 5\n",
      "#27\t первый кубик: 4, второй кубик: 6\n",
      "#28\t первый кубик: 4, второй кубик: 7\n",
      "#29\t первый кубик: 5, второй кубик: 1\n",
      "#30\t первый кубик: 5, второй кубик: 2\n",
      "#31\t первый кубик: 5, второй кубик: 3\n",
      "#32\t первый кубик: 5, второй кубик: 4\n",
      "#33\t первый кубик: 5, второй кубик: 5\n",
      "#34\t первый кубик: 5, второй кубик: 6\n",
      "#35\t первый кубик: 5, второй кубик: 7\n",
      "#36\t первый кубик: 6, второй кубик: 1\n",
      "#37\t первый кубик: 6, второй кубик: 2\n",
      "#38\t первый кубик: 6, второй кубик: 3\n",
      "#39\t первый кубик: 6, второй кубик: 4\n",
      "#40\t первый кубик: 6, второй кубик: 5\n",
      "#41\t первый кубик: 6, второй кубик: 6\n",
      "#42\t первый кубик: 6, второй кубик: 7\n"
     ]
    }
   ],
   "source": [
    "cube_edge_1 = int(input('Введите кол-во граней первого кубика: '))\n",
    "cube_edge_2 = int(input('Введите кол-во граней второго кубика: '))\n",
    "print('Все возможные комбинации бросков кубиков: ')\n",
    "cnt = 0\n",
    "for i in range(1, cube_edge_1+1, 1):\n",
    "    for j in range(1, cube_edge_2+1, 1):\n",
    "        cnt += 1\n",
    "        print(f'#{cnt}\\t первый кубик: {i}, второй кубик: {j}')"
   ]
  },
  {
   "cell_type": "code",
   "execution_count": null,
   "metadata": {},
   "outputs": [],
   "source": []
  }
 ],
 "metadata": {
  "colab": {
   "name": "jun_anl_loops_and_ifs_СКРИПТ.ipynb",
   "provenance": []
  },
  "kernelspec": {
   "display_name": "Python 3",
   "language": "python",
   "name": "python3"
  },
  "language_info": {
   "codemirror_mode": {
    "name": "ipython",
    "version": 3
   },
   "file_extension": ".py",
   "mimetype": "text/x-python",
   "name": "python",
   "nbconvert_exporter": "python",
   "pygments_lexer": "ipython3",
   "version": "3.7.1"
  }
 },
 "nbformat": 4,
 "nbformat_minor": 1
}
